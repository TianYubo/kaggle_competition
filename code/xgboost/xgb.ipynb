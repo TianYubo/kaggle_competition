{
 "cells": [
  {
   "cell_type": "code",
   "execution_count": 4,
   "metadata": {},
   "outputs": [],
   "source": [
    "import pandas as pd\n",
    "from xgboost import XGBRegressor\n",
    "from sklearn.metrics import r2_score\n",
    "import matplotlib.pyplot as plt\n",
    "import pickle\n",
    "import polars as pl"
   ]
  },
  {
   "cell_type": "code",
   "execution_count": 5,
   "metadata": {},
   "outputs": [
    {
     "name": "stdout",
     "output_type": "stream",
     "text": [
      "Training set: 6853440 rows, 95 columns\n",
      "Validation set: 337832 rows, 95 columns\n"
     ]
    }
   ],
   "source": [
    "# Step 1： 数据加载 加载训练集和验证集，确保训练和验证数据格式正确\n",
    "train = pl.scan_parquet(\"training.parquet\").collect().to_pandas()\n",
    "valid = pl.scan_parquet(\"validation.parquet\").collect().to_pandas()\n",
    "print(f\"Training set: {train.shape[0]} rows, {train.shape[1]} columns\")\n",
    "print(f\"Validation set: {valid.shape[0]} rows, {valid.shape[1]} columns\")"
   ]
  },
  {
   "cell_type": "code",
   "execution_count": 6,
   "metadata": {},
   "outputs": [],
   "source": [
    "# Step 2: 定义特征列和目标列\n",
    "# CONFIG 类保存了模型的随机种子、目标列名称和特征列名称\n",
    "class CONFIG:\n",
    "    seed = 42  # 随机种子，保证实验可重复性\n",
    "    target_col = \"responder_6\"  # 目标列名称\n",
    "    # 特征列由 79 个基础特征和 9 个延迟特征组成\n",
    "    feature_cols = [f\"feature_{idx:02d}\" for idx in range(79)] + \\\n",
    "                   [f\"responder_{idx}_lag_1\" for idx in range(9)]"
   ]
  },
  {
   "cell_type": "code",
   "execution_count": 7,
   "metadata": {},
   "outputs": [
    {
     "name": "stdout",
     "output_type": "stream",
     "text": [
      "Y means computed for all symbol IDs.\n"
     ]
    }
   ],
   "source": [
    "# Step 3: 分组统计\n",
    "# 按 symbol_id 分组，计算每个分组的目标列均值，存储在字典中\n",
    "y_means = {symbol_id: -1 for symbol_id in train[\"symbol_id\"].unique()}\n",
    "for symbol_id, gdf in train.groupby(\"symbol_id\"):  # 按 symbol_id 分组\n",
    "    y_means[symbol_id] = gdf[CONFIG.target_col].mean()  # 计算目标列均值\n",
    "print(\"Y means computed for all symbol IDs.\")  # 均值计算完成"
   ]
  },
  {
   "cell_type": "code",
   "execution_count": 14,
   "metadata": {},
   "outputs": [
    {
     "name": "stdout",
     "output_type": "stream",
     "text": [
      "   date_id  time_id  symbol_id  responder_0_lag_1  responder_1_lag_1  \\\n",
      "0        0        0          0          -0.442215          -0.322407   \n",
      "1        0        0          1          -0.651829          -1.707840   \n",
      "2        0        0          2          -0.656373          -0.264575   \n",
      "3        0        0          3          -0.188186          -0.190970   \n",
      "4        0        0          4          -0.257462          -0.471325   \n",
      "\n",
      "   responder_2_lag_1  responder_3_lag_1  responder_4_lag_1  responder_5_lag_1  \\\n",
      "0           0.143594          -0.926890          -0.782236          -0.036595   \n",
      "1          -0.893942          -1.065488          -1.871338          -0.615652   \n",
      "2          -0.892879          -1.511886          -1.033480          -0.378265   \n",
      "3          -0.701490           0.098453          -1.015506          -0.054984   \n",
      "4          -0.297420           0.074018          -0.324194          -0.597093   \n",
      "\n",
      "   responder_6_lag_1  responder_7_lag_1  responder_8_lag_1  \n",
      "0          -1.305746          -0.795677          -0.143724  \n",
      "1          -1.162801          -1.205924          -1.245934  \n",
      "2          -1.574290          -1.863071          -0.027343  \n",
      "3           0.329152          -0.965471           0.576635  \n",
      "4           0.219856          -0.276356          -0.904790  \n"
     ]
    }
   ],
   "source": [
    "lags_data = pl.scan_parquet(\"/Users/kyleee/code/project/kaggle_competition/data/lags.parquet/date_id=0/part-0.parquet\").collect().to_pandas()\n",
    "print(lags_data.head())"
   ]
  },
  {
   "cell_type": "code",
   "execution_count": 15,
   "metadata": {},
   "outputs": [
    {
     "name": "stdout",
     "output_type": "stream",
     "text": [
      "Model training completed.\n"
     ]
    }
   ],
   "source": [
    "# Step 4: 模型训练\n",
    "# 初始化 XGBoost 模型并使用训练数据进行训练\n",
    "def get_model(seed):\n",
    "    # 创建一个 XGBoost 模型实例\n",
    "    XGB_Params = {\n",
    "        'learning_rate': 0.05,\n",
    "        'max_depth': 6,\n",
    "        'n_estimators': 200,\n",
    "        'subsample': 0.8,\n",
    "        'colsample_bytree': 0.8,\n",
    "        'reg_alpha': 1,\n",
    "        'reg_lambda': 5,\n",
    "        'random_state': seed,\n",
    "        'tree_method': 'gpu_hist',\n",
    "        'device' : 'cuda',\n",
    "        'n_gpus' : 2,\n",
    "    }\n",
    "    XGB_Model = XGBRegressor(**XGB_Params)\n",
    "    return XGB_Model\n",
    "\n",
    "model = get_model(CONFIG.seed)  # 使用固定随机种子初始化模型\n",
    "\n",
    "# 提取训练特征和目标列\n",
    "X_train = train[CONFIG.feature_cols]  # 特征列\n",
    "y_train = train[CONFIG.target_col]  #\n",
    "w_train = train[\"weight\"] if \"weight\" in train.columns else None  # 样本权重（如果存在）\n",
    "\n",
    "# 模型训练\n",
    "model.fit(X_train, y_train, sample_weight=w_train)  # 使用样本权重进行训练\n",
    "print(\"Model training completed.\")  # 训练完成\n"
   ]
  },
  {
   "cell_type": "code",
   "execution_count": 16,
   "metadata": {},
   "outputs": [
    {
     "name": "stdout",
     "output_type": "stream",
     "text": [
      "Overall CV Score: 0.007621993439227759\n"
     ]
    }
   ],
   "source": [
    "# Step 5: 模型验证\n",
    "# 验证模型在验证集上的整体表现和分组表现\n",
    "cv_detail = {}  # 用于存储每个分组的 R² 分数\n",
    "for symbol_id, gdf in valid.groupby(\"symbol_id\"):  # 按 symbol_id 分组\n",
    "    # 提取验证集的特征和目标列\n",
    "    X_valid = gdf[CONFIG.feature_cols]\n",
    "    y_valid = gdf[CONFIG.target_col]\n",
    "    w_valid = gdf[\"weight\"] if \"weight\" in gdf.columns else None  # 样本权重（如果存在）\n",
    "    y_pred_valid = model.predict(X_valid)  # 模型预测\n",
    "    # 计算分组的 R² 分数\n",
    "    cv_detail[symbol_id] = r2_score(y_valid, y_pred_valid, sample_weight=w_valid)\n",
    "\n",
    "# 整体验证分数（R²）\n",
    "valid_score = r2_score(\n",
    "    valid[CONFIG.target_col],\n",
    "    model.predict(valid[CONFIG.feature_cols]),\n",
    "    sample_weight=valid[\"weight\"] if \"weight\" in valid.columns else None\n",
    ")\n",
    "print(f\"Overall CV Score: {valid_score}\")  # 输出整体验证分数\n"
   ]
  },
  {
   "cell_type": "code",
   "execution_count": 17,
   "metadata": {},
   "outputs": [
    {
     "data": {
      "image/png": "[encoded data removed]",
      "text/plain": [
       "<Figure size 640x480 with 1 Axes>"
      ]
     },
     "metadata": {},
     "output_type": "display_data"
    }
   ],
   "source": [
    "# Step 6: 可视化分组性能\n",
    "# 绘制柱状图，展示每个分组的验证分数\n",
    "sids = list(cv_detail.keys())  # 分组 ID\n",
    "scores = list(cv_detail.values())  # 每个分组的 R² 分数\n",
    "\n",
    "plt.bar(sids, scores)  # 绘制柱状图\n",
    "plt.xlabel(\"Symbol ID\")  # 横轴为 symbol_id\n",
    "plt.ylabel(\"R² Score\")  # 纵轴为 R² 分数\n",
    "plt.title(\"CV Scores by Symbol ID\")  # 图表标题\n",
    "plt.grid()  # 添加网格线\n",
    "plt.show()  # 显示图表"
   ]
  },
  {
   "cell_type": "code",
   "execution_count": 18,
   "metadata": {},
   "outputs": [
    {
     "name": "stdout",
     "output_type": "stream",
     "text": [
      "Model and results saved to result.pkl.\n"
     ]
    }
   ],
   "source": [
    "# Step 7: 模型保存\n",
    "# 将模型、验证分数和分组信息保存到文件，便于后续分析\n",
    "result = {\n",
    "    \"model\": model,  # 训练好的模型\n",
    "    \"cv\": valid_score,  # 整体验证分数\n",
    "    \"cv_detail\": cv_detail,  # 分组验证分数\n",
    "    \"y_mean\": y_means,  # 每个 symbol_id 的目标均值\n",
    "}\n",
    "\n",
    "# 使用 pickle 序列化保存\n",
    "with open(\"result.pkl\", \"wb\") as fp:\n",
    "    pickle.dump(result, fp)\n",
    "print(\"Model and results saved to result.pkl.\")  # 保存完成"
   ]
  }
 ],
 "metadata": {
  "kernelspec": {
   "display_name": "kaggle",
   "language": "python",
   "name": "python3"
  },
  "language_info": {
   "codemirror_mode": {
    "name": "ipython",
    "version": 3
   },
   "file_extension": ".py",
   "mimetype": "text/x-python",
   "name": "python",
   "nbconvert_exporter": "python",
   "pygments_lexer": "ipython3",
   "version": "3.10.14"
  }
 },
 "nbformat": 4,
 "nbformat_minor": 2
}
