{
 "cells": [
  {
   "cell_type": "code",
   "execution_count": null,
   "metadata": {},
   "outputs": [],
   "source": [
    "import os\n",
    "\n",
    "import pandas as pd\n",
    "import polars as pl\n",
    "import matplotlib\n",
    "\n",
    "# import kaggle_evaluation.jane_street_inference_server"
   ]
  },
  {
   "cell_type": "code",
   "execution_count": null,
   "metadata": {},
   "outputs": [],
   "source": [
    "input_path = '../data'\n",
    "feature_path = \"features.csv\"\n",
    "responders_path = \"responders.csv\"\n",
    "sample_submission_path = \"sample_submission.csv\"\n",
    "\n",
    "feature_df = pd.read_csv(os.path.join(input_path, feature_path))                            # (79, 18)\n",
    "responders_df = pd.read_csv(os.path.join(input_path, responders_path))                      # (9, 6)\n",
    "sample_submission_data = pd.read_csv(os.path.join(input_path, sample_submission_path))      # (39, 2)\n",
    "df_partition0 = pd.read_parquet(os.path.join(input_path, 'train.parquet/partition_id=0'))   # (N, 92)"
   ]
  },
  {
   "cell_type": "code",
   "execution_count": null,
   "metadata": {},
   "outputs": [],
   "source": [
    "lags_data_path = \"../data/lags.parquet/date_id=0/part-0.parquet\"    # lags 数据路径\n",
    "test_data_path = \"/home/kyletian/kaggle/jane-street-project/data/test.parquet/date_id=0/part-0.parquet\"\n",
    "lags_data = pd.read_parquet(lags_data_path)\n",
    "test_data = pd.read_parquet(test_data_path)\n",
    "print(lags_data.shape)\n",
    "print(test_data.shape)"
   ]
  },
  {
   "cell_type": "code",
   "execution_count": null,
   "metadata": {},
   "outputs": [],
   "source": [
    "print(lags_data.columns)"
   ]
  },
  {
   "cell_type": "code",
   "execution_count": 6,
   "metadata": {},
   "outputs": [
    {
     "name": "stdout",
     "output_type": "stream",
     "text": [
      "(79, 18)\n",
      "(9, 6)\n",
      "Index(['row_id', 'responder_6'], dtype='object')\n",
      "(1944210, 92)\n"
     ]
    }
   ],
   "source": [
    "print(feature_df.shape)\n",
    "print(responders_df.shape)\n",
    "print(sample_submission_data.columns)\n",
    "print(df_partition0.shape)"
   ]
  },
  {
   "cell_type": "code",
   "execution_count": 7,
   "metadata": {},
   "outputs": [
    {
     "name": "stdout",
     "output_type": "stream",
     "text": [
      "0           1\n",
      "1           7\n",
      "2           9\n",
      "3          10\n",
      "4          14\n",
      "           ..\n",
      "1944205    19\n",
      "1944206    30\n",
      "1944207    33\n",
      "1944208    34\n",
      "1944209    38\n",
      "Name: symbol_id, Length: 1944210, dtype: int8\n",
      "0            0\n",
      "1            0\n",
      "2            0\n",
      "3            0\n",
      "4            0\n",
      "          ... \n",
      "1944205    169\n",
      "1944206    169\n",
      "1944207    169\n",
      "1944208    169\n",
      "1944209    169\n",
      "Name: date_id, Length: 1944210, dtype: int16\n",
      "0            0\n",
      "1            0\n",
      "2            0\n",
      "3            0\n",
      "4            0\n",
      "          ... \n",
      "1944205    848\n",
      "1944206    848\n",
      "1944207    848\n",
      "1944208    848\n",
      "1944209    848\n",
      "Name: time_id, Length: 1944210, dtype: int16\n"
     ]
    }
   ],
   "source": [
    "print(df_partition0['symbol_id'])\n",
    "print(df_partition0['date_id'])\n",
    "print(df_partition0['time_id'])"
   ]
  },
  {
   "cell_type": "code",
   "execution_count": 8,
   "metadata": {},
   "outputs": [
    {
     "data": {
      "text/plain": [
       "<Axes: >"
      ]
     },
     "execution_count": 8,
     "metadata": {},
     "output_type": "execute_result"
    },
    {
     "data": {
      "image/png": "[encoded data removed]",
      "text/plain": [
       "<Figure size 640x480 with 1 Axes>"
      ]
     },
     "metadata": {},
     "output_type": "display_data"
    }
   ],
   "source": [
    "# date_id 的直方图\n",
    "df_partition0['date_id'].hist(bins=40)\n",
    "# time_id 的直方图\n",
    "df_partition0['weight'].hist(bins=40)"
   ]
  },
  {
   "cell_type": "code",
   "execution_count": 9,
   "metadata": {},
   "outputs": [
    {
     "name": "stdout",
     "output_type": "stream",
     "text": [
      "总行数: 1944210\n",
      "唯一组合数: 1944210\n",
      "是否完全唯一: True\n"
     ]
    }
   ],
   "source": [
    "#* 验证数据行的唯一性\n",
    "# 比较去重后的数量与总行数\n",
    "total_rows = len(df_partition0)\n",
    "unique_combinations = len(df_partition0[['symbol_id', 'date_id', 'time_id']].drop_duplicates())\n",
    "\n",
    "print(f\"总行数: {total_rows}\")\n",
    "print(f\"唯一组合数: {unique_combinations}\")\n",
    "print(f\"是否完全唯一: {total_rows == unique_combinations}\")"
   ]
  },
  {
   "cell_type": "code",
   "execution_count": 10,
   "metadata": {},
   "outputs": [
    {
     "name": "stdout",
     "output_type": "stream",
     "text": [
      "唯一 symbol_id 的个数：20\n",
      "唯一 date_id 的个数: 170\n",
      "唯一 time_id 的个数: 849\n",
      "有 symbol_id 占总体数据的比例: 67.35%\n"
     ]
    }
   ],
   "source": [
    "total_symbols = df_partition0['symbol_id'].nunique()\n",
    "total_dates = df_partition0['date_id'].nunique()\n",
    "total_times = df_partition0['time_id'].nunique()\n",
    "\n",
    "theoretical_tota = total_symbols * total_dates * total_times\n",
    "all_data_rows = len(df_partition0)\n",
    "print(f\"唯一 symbol_id 的个数：{total_symbols}\")\n",
    "print(f\"唯一 date_id 的个数: {total_dates}\")\n",
    "print(f\"唯一 time_id 的个数: {total_times}\")\n",
    "print(f\"有 symbol_id 占总体数据的比例: {all_data_rows / theoretical_tota * 100:.2f}%\")"
   ]
  },
  {
   "cell_type": "code",
   "execution_count": 11,
   "metadata": {},
   "outputs": [
    {
     "name": "stdout",
     "output_type": "stream",
     "text": [
      "[ 1  7  9 10 14 16 19 33  0  2 13 15 38  3 12  8 17 34 11 30]\n"
     ]
    }
   ],
   "source": [
    "print(df_partition0['symbol_id'].unique())"
   ]
  },
  {
   "cell_type": "code",
   "execution_count": 12,
   "metadata": {},
   "outputs": [
    {
     "name": "stdout",
     "output_type": "stream",
     "text": [
      "相邻 time_id 的差值：\n",
      "{1}\n"
     ]
    }
   ],
   "source": [
    "time_ids = sorted(df_partition0['time_id'].unique())\n",
    "time_intervals = [time_ids[i+1] - time_ids[i] for i in range(len(time_ids)-1)]\n",
    "\n",
    "all_time_intervals = set(time_intervals)\n",
    "\n",
    "print(\"相邻 time_id 的差值：\")\n",
    "print(all_time_intervals)"
   ]
  },
  {
   "cell_type": "code",
   "execution_count": null,
   "metadata": {},
   "outputs": [],
   "source": []
  }
 ],
 "metadata": {
  "kernelspec": {
   "display_name": "myconda",
   "language": "python",
   "name": "python3"
  },
  "language_info": {
   "codemirror_mode": {
    "name": "ipython",
    "version": 3
   },
   "file_extension": ".py",
   "mimetype": "text/x-python",
   "name": "python",
   "nbconvert_exporter": "python",
   "pygments_lexer": "ipython3",
   "version": "3.8.20"
  }
 },
 "nbformat": 4,
 "nbformat_minor": 4
}
